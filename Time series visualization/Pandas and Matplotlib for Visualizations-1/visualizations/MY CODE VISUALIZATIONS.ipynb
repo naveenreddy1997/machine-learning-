{
 "cells": [
  {
   "cell_type": "code",
   "execution_count": 4,
   "metadata": {},
   "outputs": [],
   "source": [
    "#importing libraries\n",
    "import pandas as pd\n",
    "import matplotlib.pyplot as plt\n",
    "%matplotlib inline"
   ]
  },
  {
   "cell_type": "code",
   "execution_count": 5,
   "metadata": {},
   "outputs": [],
   "source": [
    "#importing counties data\n",
    "contries_data=pd.read_csv('datasets\\countries_of_the_world.csv',decimal=',')"
   ]
  },
  {
   "cell_type": "code",
   "execution_count": 6,
   "metadata": {},
   "outputs": [
    {
     "data": {
      "text/html": [
       "<div>\n",
       "<style scoped>\n",
       "    .dataframe tbody tr th:only-of-type {\n",
       "        vertical-align: middle;\n",
       "    }\n",
       "\n",
       "    .dataframe tbody tr th {\n",
       "        vertical-align: top;\n",
       "    }\n",
       "\n",
       "    .dataframe thead th {\n",
       "        text-align: right;\n",
       "    }\n",
       "</style>\n",
       "<table border=\"1\" class=\"dataframe\">\n",
       "  <thead>\n",
       "    <tr style=\"text-align: right;\">\n",
       "      <th></th>\n",
       "      <th>Country</th>\n",
       "      <th>Region</th>\n",
       "      <th>Population</th>\n",
       "      <th>Area (sq. mi.)</th>\n",
       "      <th>Pop. Density (per sq. mi.)</th>\n",
       "      <th>Coastline (coast/area ratio)</th>\n",
       "      <th>Net migration</th>\n",
       "      <th>Infant mortality (per 1000 births)</th>\n",
       "      <th>GDP ($ per capita)</th>\n",
       "      <th>Literacy (%)</th>\n",
       "      <th>Phones (per 1000)</th>\n",
       "      <th>Arable (%)</th>\n",
       "      <th>Crops (%)</th>\n",
       "      <th>Other (%)</th>\n",
       "      <th>Climate</th>\n",
       "      <th>Birthrate</th>\n",
       "      <th>Deathrate</th>\n",
       "      <th>Agriculture</th>\n",
       "      <th>Industry</th>\n",
       "      <th>Service</th>\n",
       "    </tr>\n",
       "  </thead>\n",
       "  <tbody>\n",
       "    <tr>\n",
       "      <th>0</th>\n",
       "      <td>Afghanistan</td>\n",
       "      <td>ASIA (EX. NEAR EAST)</td>\n",
       "      <td>31056997</td>\n",
       "      <td>647500</td>\n",
       "      <td>48.0</td>\n",
       "      <td>0.00</td>\n",
       "      <td>23.06</td>\n",
       "      <td>163.07</td>\n",
       "      <td>700.0</td>\n",
       "      <td>36.0</td>\n",
       "      <td>3.2</td>\n",
       "      <td>12.13</td>\n",
       "      <td>0.22</td>\n",
       "      <td>87.65</td>\n",
       "      <td>1.0</td>\n",
       "      <td>46.60</td>\n",
       "      <td>20.34</td>\n",
       "      <td>0.380</td>\n",
       "      <td>0.240</td>\n",
       "      <td>0.380</td>\n",
       "    </tr>\n",
       "    <tr>\n",
       "      <th>1</th>\n",
       "      <td>Albania</td>\n",
       "      <td>EASTERN EUROPE</td>\n",
       "      <td>3581655</td>\n",
       "      <td>28748</td>\n",
       "      <td>124.6</td>\n",
       "      <td>1.26</td>\n",
       "      <td>-4.93</td>\n",
       "      <td>21.52</td>\n",
       "      <td>4500.0</td>\n",
       "      <td>86.5</td>\n",
       "      <td>71.2</td>\n",
       "      <td>21.09</td>\n",
       "      <td>4.42</td>\n",
       "      <td>74.49</td>\n",
       "      <td>3.0</td>\n",
       "      <td>15.11</td>\n",
       "      <td>5.22</td>\n",
       "      <td>0.232</td>\n",
       "      <td>0.188</td>\n",
       "      <td>0.579</td>\n",
       "    </tr>\n",
       "    <tr>\n",
       "      <th>2</th>\n",
       "      <td>Algeria</td>\n",
       "      <td>NORTHERN AFRICA</td>\n",
       "      <td>32930091</td>\n",
       "      <td>2381740</td>\n",
       "      <td>13.8</td>\n",
       "      <td>0.04</td>\n",
       "      <td>-0.39</td>\n",
       "      <td>31.00</td>\n",
       "      <td>6000.0</td>\n",
       "      <td>70.0</td>\n",
       "      <td>78.1</td>\n",
       "      <td>3.22</td>\n",
       "      <td>0.25</td>\n",
       "      <td>96.53</td>\n",
       "      <td>1.0</td>\n",
       "      <td>17.14</td>\n",
       "      <td>4.61</td>\n",
       "      <td>0.101</td>\n",
       "      <td>0.600</td>\n",
       "      <td>0.298</td>\n",
       "    </tr>\n",
       "    <tr>\n",
       "      <th>3</th>\n",
       "      <td>American Samoa</td>\n",
       "      <td>OCEANIA</td>\n",
       "      <td>57794</td>\n",
       "      <td>199</td>\n",
       "      <td>290.4</td>\n",
       "      <td>58.29</td>\n",
       "      <td>-20.71</td>\n",
       "      <td>9.27</td>\n",
       "      <td>8000.0</td>\n",
       "      <td>97.0</td>\n",
       "      <td>259.5</td>\n",
       "      <td>10.00</td>\n",
       "      <td>15.00</td>\n",
       "      <td>75.00</td>\n",
       "      <td>2.0</td>\n",
       "      <td>22.46</td>\n",
       "      <td>3.27</td>\n",
       "      <td>NaN</td>\n",
       "      <td>NaN</td>\n",
       "      <td>NaN</td>\n",
       "    </tr>\n",
       "    <tr>\n",
       "      <th>4</th>\n",
       "      <td>Andorra</td>\n",
       "      <td>WESTERN EUROPE</td>\n",
       "      <td>71201</td>\n",
       "      <td>468</td>\n",
       "      <td>152.1</td>\n",
       "      <td>0.00</td>\n",
       "      <td>6.60</td>\n",
       "      <td>4.05</td>\n",
       "      <td>19000.0</td>\n",
       "      <td>100.0</td>\n",
       "      <td>497.2</td>\n",
       "      <td>2.22</td>\n",
       "      <td>0.00</td>\n",
       "      <td>97.78</td>\n",
       "      <td>3.0</td>\n",
       "      <td>8.71</td>\n",
       "      <td>6.25</td>\n",
       "      <td>NaN</td>\n",
       "      <td>NaN</td>\n",
       "      <td>NaN</td>\n",
       "    </tr>\n",
       "  </tbody>\n",
       "</table>\n",
       "</div>"
      ],
      "text/plain": [
       "           Country                               Region  Population  \\\n",
       "0     Afghanistan         ASIA (EX. NEAR EAST)             31056997   \n",
       "1         Albania   EASTERN EUROPE                          3581655   \n",
       "2         Algeria   NORTHERN AFRICA                        32930091   \n",
       "3  American Samoa   OCEANIA                                   57794   \n",
       "4         Andorra   WESTERN EUROPE                            71201   \n",
       "\n",
       "   Area (sq. mi.)  Pop. Density (per sq. mi.)  Coastline (coast/area ratio)  \\\n",
       "0          647500                        48.0                          0.00   \n",
       "1           28748                       124.6                          1.26   \n",
       "2         2381740                        13.8                          0.04   \n",
       "3             199                       290.4                         58.29   \n",
       "4             468                       152.1                          0.00   \n",
       "\n",
       "   Net migration  Infant mortality (per 1000 births)  GDP ($ per capita)  \\\n",
       "0          23.06                              163.07               700.0   \n",
       "1          -4.93                               21.52              4500.0   \n",
       "2          -0.39                               31.00              6000.0   \n",
       "3         -20.71                                9.27              8000.0   \n",
       "4           6.60                                4.05             19000.0   \n",
       "\n",
       "   Literacy (%)  Phones (per 1000)  Arable (%)  Crops (%)  Other (%)  Climate  \\\n",
       "0          36.0                3.2       12.13       0.22      87.65      1.0   \n",
       "1          86.5               71.2       21.09       4.42      74.49      3.0   \n",
       "2          70.0               78.1        3.22       0.25      96.53      1.0   \n",
       "3          97.0              259.5       10.00      15.00      75.00      2.0   \n",
       "4         100.0              497.2        2.22       0.00      97.78      3.0   \n",
       "\n",
       "   Birthrate  Deathrate  Agriculture  Industry  Service  \n",
       "0      46.60      20.34        0.380     0.240    0.380  \n",
       "1      15.11       5.22        0.232     0.188    0.579  \n",
       "2      17.14       4.61        0.101     0.600    0.298  \n",
       "3      22.46       3.27          NaN       NaN      NaN  \n",
       "4       8.71       6.25          NaN       NaN      NaN  "
      ]
     },
     "execution_count": 6,
     "metadata": {},
     "output_type": "execute_result"
    }
   ],
   "source": [
    "contries_data.head()"
   ]
  },
  {
   "cell_type": "code",
   "execution_count": 7,
   "metadata": {},
   "outputs": [],
   "source": [
    "#here lot of columns are there but we need to work with some columns only so i am choiceing some columns\n",
    "columns=['Country', \n",
    "                 'Region',\n",
    "                 'Population', \n",
    "                 'Coastline (coast/area ratio)',\n",
    "                 'GDP ($ per capita)', \n",
    "                 'Literacy (%)', \n",
    "                 'Birthrate']"
   ]
  },
  {
   "cell_type": "code",
   "execution_count": 21,
   "metadata": {},
   "outputs": [],
   "source": [
    "new_data=contries_data[columns]"
   ]
  },
  {
   "cell_type": "code",
   "execution_count": 22,
   "metadata": {},
   "outputs": [
    {
     "data": {
      "text/html": [
       "<div>\n",
       "<style scoped>\n",
       "    .dataframe tbody tr th:only-of-type {\n",
       "        vertical-align: middle;\n",
       "    }\n",
       "\n",
       "    .dataframe tbody tr th {\n",
       "        vertical-align: top;\n",
       "    }\n",
       "\n",
       "    .dataframe thead th {\n",
       "        text-align: right;\n",
       "    }\n",
       "</style>\n",
       "<table border=\"1\" class=\"dataframe\">\n",
       "  <thead>\n",
       "    <tr style=\"text-align: right;\">\n",
       "      <th></th>\n",
       "      <th>Country</th>\n",
       "      <th>Region</th>\n",
       "      <th>Population</th>\n",
       "      <th>Coastline (coast/area ratio)</th>\n",
       "      <th>GDP ($ per capita)</th>\n",
       "      <th>Literacy (%)</th>\n",
       "      <th>Birthrate</th>\n",
       "    </tr>\n",
       "  </thead>\n",
       "  <tbody>\n",
       "    <tr>\n",
       "      <th>0</th>\n",
       "      <td>Afghanistan</td>\n",
       "      <td>ASIA (EX. NEAR EAST)</td>\n",
       "      <td>31056997</td>\n",
       "      <td>0.00</td>\n",
       "      <td>700.0</td>\n",
       "      <td>36.0</td>\n",
       "      <td>46.60</td>\n",
       "    </tr>\n",
       "    <tr>\n",
       "      <th>1</th>\n",
       "      <td>Albania</td>\n",
       "      <td>EASTERN EUROPE</td>\n",
       "      <td>3581655</td>\n",
       "      <td>1.26</td>\n",
       "      <td>4500.0</td>\n",
       "      <td>86.5</td>\n",
       "      <td>15.11</td>\n",
       "    </tr>\n",
       "    <tr>\n",
       "      <th>2</th>\n",
       "      <td>Algeria</td>\n",
       "      <td>NORTHERN AFRICA</td>\n",
       "      <td>32930091</td>\n",
       "      <td>0.04</td>\n",
       "      <td>6000.0</td>\n",
       "      <td>70.0</td>\n",
       "      <td>17.14</td>\n",
       "    </tr>\n",
       "    <tr>\n",
       "      <th>3</th>\n",
       "      <td>American Samoa</td>\n",
       "      <td>OCEANIA</td>\n",
       "      <td>57794</td>\n",
       "      <td>58.29</td>\n",
       "      <td>8000.0</td>\n",
       "      <td>97.0</td>\n",
       "      <td>22.46</td>\n",
       "    </tr>\n",
       "    <tr>\n",
       "      <th>4</th>\n",
       "      <td>Andorra</td>\n",
       "      <td>WESTERN EUROPE</td>\n",
       "      <td>71201</td>\n",
       "      <td>0.00</td>\n",
       "      <td>19000.0</td>\n",
       "      <td>100.0</td>\n",
       "      <td>8.71</td>\n",
       "    </tr>\n",
       "  </tbody>\n",
       "</table>\n",
       "</div>"
      ],
      "text/plain": [
       "           Country                               Region  Population  \\\n",
       "0     Afghanistan         ASIA (EX. NEAR EAST)             31056997   \n",
       "1         Albania   EASTERN EUROPE                          3581655   \n",
       "2         Algeria   NORTHERN AFRICA                        32930091   \n",
       "3  American Samoa   OCEANIA                                   57794   \n",
       "4         Andorra   WESTERN EUROPE                            71201   \n",
       "\n",
       "   Coastline (coast/area ratio)  GDP ($ per capita)  Literacy (%)  Birthrate  \n",
       "0                          0.00               700.0          36.0      46.60  \n",
       "1                          1.26              4500.0          86.5      15.11  \n",
       "2                          0.04              6000.0          70.0      17.14  \n",
       "3                         58.29              8000.0          97.0      22.46  \n",
       "4                          0.00             19000.0         100.0       8.71  "
      ]
     },
     "execution_count": 22,
     "metadata": {},
     "output_type": "execute_result"
    }
   ],
   "source": [
    "#here we got over required data colunms\n",
    "new_data.head()"
   ]
  },
  {
   "cell_type": "code",
   "execution_count": 23,
   "metadata": {},
   "outputs": [
    {
     "data": {
      "text/plain": [
       "Country                          0\n",
       "Region                           0\n",
       "Population                       0\n",
       "Coastline (coast/area ratio)     0\n",
       "GDP ($ per capita)               1\n",
       "Literacy (%)                    18\n",
       "Birthrate                        3\n",
       "dtype: int64"
      ]
     },
     "execution_count": 23,
     "metadata": {},
     "output_type": "execute_result"
    }
   ],
   "source": [
    "# here i am checking that data has any missing values\n",
    "new_data.isnull().sum()"
   ]
  },
  {
   "cell_type": "code",
   "execution_count": 24,
   "metadata": {},
   "outputs": [
    {
     "data": {
      "text/html": [
       "<div>\n",
       "<style scoped>\n",
       "    .dataframe tbody tr th:only-of-type {\n",
       "        vertical-align: middle;\n",
       "    }\n",
       "\n",
       "    .dataframe tbody tr th {\n",
       "        vertical-align: top;\n",
       "    }\n",
       "\n",
       "    .dataframe thead th {\n",
       "        text-align: right;\n",
       "    }\n",
       "</style>\n",
       "<table border=\"1\" class=\"dataframe\">\n",
       "  <thead>\n",
       "    <tr style=\"text-align: right;\">\n",
       "      <th></th>\n",
       "      <th>Country</th>\n",
       "      <th>Region</th>\n",
       "      <th>Population</th>\n",
       "      <th>Coastline (coast/area ratio)</th>\n",
       "      <th>GDP ($ per capita)</th>\n",
       "      <th>Literacy (%)</th>\n",
       "      <th>Birthrate</th>\n",
       "    </tr>\n",
       "  </thead>\n",
       "  <tbody>\n",
       "    <tr>\n",
       "      <th>0</th>\n",
       "      <td>Afghanistan</td>\n",
       "      <td>ASIA (EX. NEAR EAST)</td>\n",
       "      <td>31056997</td>\n",
       "      <td>0.00</td>\n",
       "      <td>700.0</td>\n",
       "      <td>36.0</td>\n",
       "      <td>46.60</td>\n",
       "    </tr>\n",
       "    <tr>\n",
       "      <th>1</th>\n",
       "      <td>Albania</td>\n",
       "      <td>EASTERN EUROPE</td>\n",
       "      <td>3581655</td>\n",
       "      <td>1.26</td>\n",
       "      <td>4500.0</td>\n",
       "      <td>86.5</td>\n",
       "      <td>15.11</td>\n",
       "    </tr>\n",
       "    <tr>\n",
       "      <th>2</th>\n",
       "      <td>Algeria</td>\n",
       "      <td>NORTHERN AFRICA</td>\n",
       "      <td>32930091</td>\n",
       "      <td>0.04</td>\n",
       "      <td>6000.0</td>\n",
       "      <td>70.0</td>\n",
       "      <td>17.14</td>\n",
       "    </tr>\n",
       "    <tr>\n",
       "      <th>3</th>\n",
       "      <td>American Samoa</td>\n",
       "      <td>OCEANIA</td>\n",
       "      <td>57794</td>\n",
       "      <td>58.29</td>\n",
       "      <td>8000.0</td>\n",
       "      <td>97.0</td>\n",
       "      <td>22.46</td>\n",
       "    </tr>\n",
       "    <tr>\n",
       "      <th>4</th>\n",
       "      <td>Andorra</td>\n",
       "      <td>WESTERN EUROPE</td>\n",
       "      <td>71201</td>\n",
       "      <td>0.00</td>\n",
       "      <td>19000.0</td>\n",
       "      <td>100.0</td>\n",
       "      <td>8.71</td>\n",
       "    </tr>\n",
       "  </tbody>\n",
       "</table>\n",
       "</div>"
      ],
      "text/plain": [
       "           Country                               Region  Population  \\\n",
       "0     Afghanistan         ASIA (EX. NEAR EAST)             31056997   \n",
       "1         Albania   EASTERN EUROPE                          3581655   \n",
       "2         Algeria   NORTHERN AFRICA                        32930091   \n",
       "3  American Samoa   OCEANIA                                   57794   \n",
       "4         Andorra   WESTERN EUROPE                            71201   \n",
       "\n",
       "   Coastline (coast/area ratio)  GDP ($ per capita)  Literacy (%)  Birthrate  \n",
       "0                          0.00               700.0          36.0      46.60  \n",
       "1                          1.26              4500.0          86.5      15.11  \n",
       "2                          0.04              6000.0          70.0      17.14  \n",
       "3                         58.29              8000.0          97.0      22.46  \n",
       "4                          0.00             19000.0         100.0       8.71  "
      ]
     },
     "execution_count": 24,
     "metadata": {},
     "output_type": "execute_result"
    }
   ],
   "source": [
    "# i am droping the missing data\n",
    "new_data_nonull=new_data.dropna()\n",
    "new_data_nonull.head()\n"
   ]
  },
  {
   "cell_type": "code",
   "execution_count": 25,
   "metadata": {},
   "outputs": [
    {
     "data": {
      "text/plain": [
       "Country                         0\n",
       "Region                          0\n",
       "Population                      0\n",
       "Coastline (coast/area ratio)    0\n",
       "GDP ($ per capita)              0\n",
       "Literacy (%)                    0\n",
       "Birthrate                       0\n",
       "dtype: int64"
      ]
     },
     "execution_count": 25,
     "metadata": {},
     "output_type": "execute_result"
    }
   ],
   "source": [
    "#checking is there any null value after droping those\n",
    "new_data_nonull.isnull().sum()"
   ]
  },
  {
   "cell_type": "code",
   "execution_count": 26,
   "metadata": {},
   "outputs": [
    {
     "name": "stdout",
     "output_type": "stream",
     "text": [
      "<class 'pandas.core.frame.DataFrame'>\n",
      "Int64Index: 207 entries, 0 to 226\n",
      "Data columns (total 7 columns):\n",
      " #   Column                        Non-Null Count  Dtype  \n",
      "---  ------                        --------------  -----  \n",
      " 0   Country                       207 non-null    object \n",
      " 1   Region                        207 non-null    object \n",
      " 2   Population                    207 non-null    int64  \n",
      " 3   Coastline (coast/area ratio)  207 non-null    float64\n",
      " 4   GDP ($ per capita)            207 non-null    float64\n",
      " 5   Literacy (%)                  207 non-null    float64\n",
      " 6   Birthrate                     207 non-null    float64\n",
      "dtypes: float64(4), int64(1), object(2)\n",
      "memory usage: 12.9+ KB\n"
     ]
    }
   ],
   "source": [
    "#by seeing data \n",
    "new_data_nonull.info()"
   ]
  },
  {
   "cell_type": "code",
   "execution_count": 44,
   "metadata": {},
   "outputs": [
    {
     "data": {
      "text/plain": [
       "array(['ASIA (EX. NEAR EAST)         ',\n",
       "       'EASTERN EUROPE                     ',\n",
       "       'NORTHERN AFRICA                    ',\n",
       "       'OCEANIA                            ',\n",
       "       'WESTERN EUROPE                     ',\n",
       "       'SUB-SAHARAN AFRICA                 ', 'LATIN AMER. & CARIB    ',\n",
       "       'C.W. OF IND. STATES ', 'NEAR EAST                          ',\n",
       "       'NORTHERN AMERICA                   ',\n",
       "       'BALTICS                            '], dtype=object)"
      ]
     },
     "execution_count": 44,
     "metadata": {},
     "output_type": "execute_result"
    }
   ],
   "source": [
    "#checking how many unique region are there\n",
    "new_data_nonull['Region'].unique()"
   ]
  },
  {
   "cell_type": "code",
   "execution_count": 45,
   "metadata": {},
   "outputs": [],
   "source": [
    "#grouping with region\n",
    "data_group=new_data_nonull.groupby(by='Region').mean()"
   ]
  },
  {
   "cell_type": "code",
   "execution_count": 46,
   "metadata": {},
   "outputs": [
    {
     "data": {
      "text/html": [
       "<div>\n",
       "<style scoped>\n",
       "    .dataframe tbody tr th:only-of-type {\n",
       "        vertical-align: middle;\n",
       "    }\n",
       "\n",
       "    .dataframe tbody tr th {\n",
       "        vertical-align: top;\n",
       "    }\n",
       "\n",
       "    .dataframe thead th {\n",
       "        text-align: right;\n",
       "    }\n",
       "</style>\n",
       "<table border=\"1\" class=\"dataframe\">\n",
       "  <thead>\n",
       "    <tr style=\"text-align: right;\">\n",
       "      <th></th>\n",
       "      <th>Population</th>\n",
       "      <th>Coastline (coast/area ratio)</th>\n",
       "      <th>GDP ($ per capita)</th>\n",
       "      <th>Literacy (%)</th>\n",
       "      <th>Birthrate</th>\n",
       "    </tr>\n",
       "    <tr>\n",
       "      <th>Region</th>\n",
       "      <th></th>\n",
       "      <th></th>\n",
       "      <th></th>\n",
       "      <th></th>\n",
       "      <th></th>\n",
       "    </tr>\n",
       "  </thead>\n",
       "  <tbody>\n",
       "    <tr>\n",
       "      <th>ASIA (EX. NEAR EAST)</th>\n",
       "      <td>1.317137e+08</td>\n",
       "      <td>17.926786</td>\n",
       "      <td>8053.571429</td>\n",
       "      <td>79.553571</td>\n",
       "      <td>21.157857</td>\n",
       "    </tr>\n",
       "    <tr>\n",
       "      <th>BALTICS</th>\n",
       "      <td>2.394991e+06</td>\n",
       "      <td>3.116667</td>\n",
       "      <td>11300.000000</td>\n",
       "      <td>99.733333</td>\n",
       "      <td>9.343333</td>\n",
       "    </tr>\n",
       "    <tr>\n",
       "      <th>C.W. OF IND. STATES</th>\n",
       "      <td>2.334013e+07</td>\n",
       "      <td>0.093333</td>\n",
       "      <td>4000.000000</td>\n",
       "      <td>98.725000</td>\n",
       "      <td>17.855833</td>\n",
       "    </tr>\n",
       "    <tr>\n",
       "      <th>EASTERN EUROPE</th>\n",
       "      <td>1.231617e+07</td>\n",
       "      <td>1.547500</td>\n",
       "      <td>11175.000000</td>\n",
       "      <td>97.600000</td>\n",
       "      <td>10.330000</td>\n",
       "    </tr>\n",
       "    <tr>\n",
       "      <th>LATIN AMER. &amp; CARIB</th>\n",
       "      <td>1.276627e+07</td>\n",
       "      <td>16.111591</td>\n",
       "      <td>8488.636364</td>\n",
       "      <td>90.654545</td>\n",
       "      <td>19.197500</td>\n",
       "    </tr>\n",
       "    <tr>\n",
       "      <th>NEAR EAST</th>\n",
       "      <td>1.365565e+07</td>\n",
       "      <td>3.323571</td>\n",
       "      <td>11850.000000</td>\n",
       "      <td>79.521429</td>\n",
       "      <td>23.527857</td>\n",
       "    </tr>\n",
       "    <tr>\n",
       "      <th>NORTHERN AFRICA</th>\n",
       "      <td>3.222682e+07</td>\n",
       "      <td>0.298000</td>\n",
       "      <td>5460.000000</td>\n",
       "      <td>67.240000</td>\n",
       "      <td>20.814000</td>\n",
       "    </tr>\n",
       "    <tr>\n",
       "      <th>NORTHERN AMERICA</th>\n",
       "      <td>8.290399e+07</td>\n",
       "      <td>61.540000</td>\n",
       "      <td>27625.000000</td>\n",
       "      <td>97.750000</td>\n",
       "      <td>12.460000</td>\n",
       "    </tr>\n",
       "    <tr>\n",
       "      <th>OCEANIA</th>\n",
       "      <td>2.027042e+06</td>\n",
       "      <td>113.983750</td>\n",
       "      <td>10056.250000</td>\n",
       "      <td>91.262500</td>\n",
       "      <td>20.910000</td>\n",
       "    </tr>\n",
       "    <tr>\n",
       "      <th>SUB-SAHARAN AFRICA</th>\n",
       "      <td>1.498472e+07</td>\n",
       "      <td>4.217800</td>\n",
       "      <td>2318.000000</td>\n",
       "      <td>62.510000</td>\n",
       "      <td>35.945800</td>\n",
       "    </tr>\n",
       "    <tr>\n",
       "      <th>WESTERN EUROPE</th>\n",
       "      <td>1.721882e+07</td>\n",
       "      <td>14.065217</td>\n",
       "      <td>28347.826087</td>\n",
       "      <td>98.391304</td>\n",
       "      <td>10.502174</td>\n",
       "    </tr>\n",
       "  </tbody>\n",
       "</table>\n",
       "</div>"
      ],
      "text/plain": [
       "                                       Population  \\\n",
       "Region                                              \n",
       "ASIA (EX. NEAR EAST)                 1.317137e+08   \n",
       "BALTICS                              2.394991e+06   \n",
       "C.W. OF IND. STATES                  2.334013e+07   \n",
       "EASTERN EUROPE                       1.231617e+07   \n",
       "LATIN AMER. & CARIB                  1.276627e+07   \n",
       "NEAR EAST                            1.365565e+07   \n",
       "NORTHERN AFRICA                      3.222682e+07   \n",
       "NORTHERN AMERICA                     8.290399e+07   \n",
       "OCEANIA                              2.027042e+06   \n",
       "SUB-SAHARAN AFRICA                   1.498472e+07   \n",
       "WESTERN EUROPE                       1.721882e+07   \n",
       "\n",
       "                                     Coastline (coast/area ratio)  \\\n",
       "Region                                                              \n",
       "ASIA (EX. NEAR EAST)                                    17.926786   \n",
       "BALTICS                                                  3.116667   \n",
       "C.W. OF IND. STATES                                      0.093333   \n",
       "EASTERN EUROPE                                           1.547500   \n",
       "LATIN AMER. & CARIB                                     16.111591   \n",
       "NEAR EAST                                                3.323571   \n",
       "NORTHERN AFRICA                                          0.298000   \n",
       "NORTHERN AMERICA                                        61.540000   \n",
       "OCEANIA                                                113.983750   \n",
       "SUB-SAHARAN AFRICA                                       4.217800   \n",
       "WESTERN EUROPE                                          14.065217   \n",
       "\n",
       "                                     GDP ($ per capita)  Literacy (%)  \\\n",
       "Region                                                                  \n",
       "ASIA (EX. NEAR EAST)                        8053.571429     79.553571   \n",
       "BALTICS                                    11300.000000     99.733333   \n",
       "C.W. OF IND. STATES                         4000.000000     98.725000   \n",
       "EASTERN EUROPE                             11175.000000     97.600000   \n",
       "LATIN AMER. & CARIB                         8488.636364     90.654545   \n",
       "NEAR EAST                                  11850.000000     79.521429   \n",
       "NORTHERN AFRICA                             5460.000000     67.240000   \n",
       "NORTHERN AMERICA                           27625.000000     97.750000   \n",
       "OCEANIA                                    10056.250000     91.262500   \n",
       "SUB-SAHARAN AFRICA                          2318.000000     62.510000   \n",
       "WESTERN EUROPE                             28347.826087     98.391304   \n",
       "\n",
       "                                     Birthrate  \n",
       "Region                                          \n",
       "ASIA (EX. NEAR EAST)                 21.157857  \n",
       "BALTICS                               9.343333  \n",
       "C.W. OF IND. STATES                  17.855833  \n",
       "EASTERN EUROPE                       10.330000  \n",
       "LATIN AMER. & CARIB                  19.197500  \n",
       "NEAR EAST                            23.527857  \n",
       "NORTHERN AFRICA                      20.814000  \n",
       "NORTHERN AMERICA                     12.460000  \n",
       "OCEANIA                              20.910000  \n",
       "SUB-SAHARAN AFRICA                   35.945800  \n",
       "WESTERN EUROPE                       10.502174  "
      ]
     },
     "execution_count": 46,
     "metadata": {},
     "output_type": "execute_result"
    }
   ],
   "source": [
    "data_group"
   ]
  },
  {
   "cell_type": "code",
   "execution_count": 47,
   "metadata": {},
   "outputs": [],
   "source": [
    "%matplotlib inline"
   ]
  },
  {
   "cell_type": "code",
   "execution_count": 48,
   "metadata": {},
   "outputs": [
    {
     "data": {
      "text/plain": [
       "<matplotlib.axes._subplots.AxesSubplot at 0x27fa6459588>"
      ]
     },
     "execution_count": 48,
     "metadata": {},
     "output_type": "execute_result"
    },
    {
     "data": {
      "image/png": "[encoded data removed]",
      "text/plain": [
       "<Figure size 432x288 with 1 Axes>"
      ]
     },
     "metadata": {
      "needs_background": "light"
     },
     "output_type": "display_data"
    }
   ],
   "source": [
    "data_group['GDP ($ per capita)'].plot(kind='bar')"
   ]
  },
  {
   "cell_type": "code",
   "execution_count": 49,
   "metadata": {},
   "outputs": [
    {
     "data": {
      "text/html": [
       "<div>\n",
       "<style scoped>\n",
       "    .dataframe tbody tr th:only-of-type {\n",
       "        vertical-align: middle;\n",
       "    }\n",
       "\n",
       "    .dataframe tbody tr th {\n",
       "        vertical-align: top;\n",
       "    }\n",
       "\n",
       "    .dataframe thead th {\n",
       "        text-align: right;\n",
       "    }\n",
       "</style>\n",
       "<table border=\"1\" class=\"dataframe\">\n",
       "  <thead>\n",
       "    <tr style=\"text-align: right;\">\n",
       "      <th></th>\n",
       "      <th>Population</th>\n",
       "      <th>Coastline (coast/area ratio)</th>\n",
       "      <th>COUNTRY_GDP</th>\n",
       "      <th>Literacy (%)</th>\n",
       "      <th>Birthrate</th>\n",
       "    </tr>\n",
       "    <tr>\n",
       "      <th>Region</th>\n",
       "      <th></th>\n",
       "      <th></th>\n",
       "      <th></th>\n",
       "      <th></th>\n",
       "      <th></th>\n",
       "    </tr>\n",
       "  </thead>\n",
       "  <tbody>\n",
       "    <tr>\n",
       "      <th>ASIA (EX. NEAR EAST)</th>\n",
       "      <td>1.317137e+08</td>\n",
       "      <td>17.926786</td>\n",
       "      <td>8053.571429</td>\n",
       "      <td>79.553571</td>\n",
       "      <td>21.157857</td>\n",
       "    </tr>\n",
       "    <tr>\n",
       "      <th>BALTICS</th>\n",
       "      <td>2.394991e+06</td>\n",
       "      <td>3.116667</td>\n",
       "      <td>11300.000000</td>\n",
       "      <td>99.733333</td>\n",
       "      <td>9.343333</td>\n",
       "    </tr>\n",
       "    <tr>\n",
       "      <th>C.W. OF IND. STATES</th>\n",
       "      <td>2.334013e+07</td>\n",
       "      <td>0.093333</td>\n",
       "      <td>4000.000000</td>\n",
       "      <td>98.725000</td>\n",
       "      <td>17.855833</td>\n",
       "    </tr>\n",
       "    <tr>\n",
       "      <th>EASTERN EUROPE</th>\n",
       "      <td>1.231617e+07</td>\n",
       "      <td>1.547500</td>\n",
       "      <td>11175.000000</td>\n",
       "      <td>97.600000</td>\n",
       "      <td>10.330000</td>\n",
       "    </tr>\n",
       "    <tr>\n",
       "      <th>LATIN AMER. &amp; CARIB</th>\n",
       "      <td>1.276627e+07</td>\n",
       "      <td>16.111591</td>\n",
       "      <td>8488.636364</td>\n",
       "      <td>90.654545</td>\n",
       "      <td>19.197500</td>\n",
       "    </tr>\n",
       "    <tr>\n",
       "      <th>NEAR EAST</th>\n",
       "      <td>1.365565e+07</td>\n",
       "      <td>3.323571</td>\n",
       "      <td>11850.000000</td>\n",
       "      <td>79.521429</td>\n",
       "      <td>23.527857</td>\n",
       "    </tr>\n",
       "    <tr>\n",
       "      <th>NORTHERN AFRICA</th>\n",
       "      <td>3.222682e+07</td>\n",
       "      <td>0.298000</td>\n",
       "      <td>5460.000000</td>\n",
       "      <td>67.240000</td>\n",
       "      <td>20.814000</td>\n",
       "    </tr>\n",
       "    <tr>\n",
       "      <th>NORTHERN AMERICA</th>\n",
       "      <td>8.290399e+07</td>\n",
       "      <td>61.540000</td>\n",
       "      <td>27625.000000</td>\n",
       "      <td>97.750000</td>\n",
       "      <td>12.460000</td>\n",
       "    </tr>\n",
       "    <tr>\n",
       "      <th>OCEANIA</th>\n",
       "      <td>2.027042e+06</td>\n",
       "      <td>113.983750</td>\n",
       "      <td>10056.250000</td>\n",
       "      <td>91.262500</td>\n",
       "      <td>20.910000</td>\n",
       "    </tr>\n",
       "    <tr>\n",
       "      <th>SUB-SAHARAN AFRICA</th>\n",
       "      <td>1.498472e+07</td>\n",
       "      <td>4.217800</td>\n",
       "      <td>2318.000000</td>\n",
       "      <td>62.510000</td>\n",
       "      <td>35.945800</td>\n",
       "    </tr>\n",
       "    <tr>\n",
       "      <th>WESTERN EUROPE</th>\n",
       "      <td>1.721882e+07</td>\n",
       "      <td>14.065217</td>\n",
       "      <td>28347.826087</td>\n",
       "      <td>98.391304</td>\n",
       "      <td>10.502174</td>\n",
       "    </tr>\n",
       "  </tbody>\n",
       "</table>\n",
       "</div>"
      ],
      "text/plain": [
       "                                       Population  \\\n",
       "Region                                              \n",
       "ASIA (EX. NEAR EAST)                 1.317137e+08   \n",
       "BALTICS                              2.394991e+06   \n",
       "C.W. OF IND. STATES                  2.334013e+07   \n",
       "EASTERN EUROPE                       1.231617e+07   \n",
       "LATIN AMER. & CARIB                  1.276627e+07   \n",
       "NEAR EAST                            1.365565e+07   \n",
       "NORTHERN AFRICA                      3.222682e+07   \n",
       "NORTHERN AMERICA                     8.290399e+07   \n",
       "OCEANIA                              2.027042e+06   \n",
       "SUB-SAHARAN AFRICA                   1.498472e+07   \n",
       "WESTERN EUROPE                       1.721882e+07   \n",
       "\n",
       "                                     Coastline (coast/area ratio)  \\\n",
       "Region                                                              \n",
       "ASIA (EX. NEAR EAST)                                    17.926786   \n",
       "BALTICS                                                  3.116667   \n",
       "C.W. OF IND. STATES                                      0.093333   \n",
       "EASTERN EUROPE                                           1.547500   \n",
       "LATIN AMER. & CARIB                                     16.111591   \n",
       "NEAR EAST                                                3.323571   \n",
       "NORTHERN AFRICA                                          0.298000   \n",
       "NORTHERN AMERICA                                        61.540000   \n",
       "OCEANIA                                                113.983750   \n",
       "SUB-SAHARAN AFRICA                                       4.217800   \n",
       "WESTERN EUROPE                                          14.065217   \n",
       "\n",
       "                                      COUNTRY_GDP  Literacy (%)  Birthrate  \n",
       "Region                                                                      \n",
       "ASIA (EX. NEAR EAST)                  8053.571429     79.553571  21.157857  \n",
       "BALTICS                              11300.000000     99.733333   9.343333  \n",
       "C.W. OF IND. STATES                   4000.000000     98.725000  17.855833  \n",
       "EASTERN EUROPE                       11175.000000     97.600000  10.330000  \n",
       "LATIN AMER. & CARIB                   8488.636364     90.654545  19.197500  \n",
       "NEAR EAST                            11850.000000     79.521429  23.527857  \n",
       "NORTHERN AFRICA                       5460.000000     67.240000  20.814000  \n",
       "NORTHERN AMERICA                     27625.000000     97.750000  12.460000  \n",
       "OCEANIA                              10056.250000     91.262500  20.910000  \n",
       "SUB-SAHARAN AFRICA                    2318.000000     62.510000  35.945800  \n",
       "WESTERN EUROPE                       28347.826087     98.391304  10.502174  "
      ]
     },
     "execution_count": 49,
     "metadata": {},
     "output_type": "execute_result"
    }
   ],
   "source": [
    "#changing cloumn names\n",
    "data_group.rename(columns={'GDP ($ per capita)':'COUNTRY_GDP'})# this is temporary change"
   ]
  },
  {
   "cell_type": "code",
   "execution_count": 50,
   "metadata": {},
   "outputs": [
    {
     "data": {
      "text/html": [
       "<div>\n",
       "<style scoped>\n",
       "    .dataframe tbody tr th:only-of-type {\n",
       "        vertical-align: middle;\n",
       "    }\n",
       "\n",
       "    .dataframe tbody tr th {\n",
       "        vertical-align: top;\n",
       "    }\n",
       "\n",
       "    .dataframe thead th {\n",
       "        text-align: right;\n",
       "    }\n",
       "</style>\n",
       "<table border=\"1\" class=\"dataframe\">\n",
       "  <thead>\n",
       "    <tr style=\"text-align: right;\">\n",
       "      <th></th>\n",
       "      <th>Population</th>\n",
       "      <th>Coastline (coast/area ratio)</th>\n",
       "      <th>GDP ($ per capita)</th>\n",
       "      <th>Literacy (%)</th>\n",
       "      <th>Birthrate</th>\n",
       "    </tr>\n",
       "    <tr>\n",
       "      <th>Region</th>\n",
       "      <th></th>\n",
       "      <th></th>\n",
       "      <th></th>\n",
       "      <th></th>\n",
       "      <th></th>\n",
       "    </tr>\n",
       "  </thead>\n",
       "  <tbody>\n",
       "    <tr>\n",
       "      <th>ASIA (EX. NEAR EAST)</th>\n",
       "      <td>1.317137e+08</td>\n",
       "      <td>17.926786</td>\n",
       "      <td>8053.571429</td>\n",
       "      <td>79.553571</td>\n",
       "      <td>21.157857</td>\n",
       "    </tr>\n",
       "    <tr>\n",
       "      <th>BALTICS</th>\n",
       "      <td>2.394991e+06</td>\n",
       "      <td>3.116667</td>\n",
       "      <td>11300.000000</td>\n",
       "      <td>99.733333</td>\n",
       "      <td>9.343333</td>\n",
       "    </tr>\n",
       "    <tr>\n",
       "      <th>C.W. OF IND. STATES</th>\n",
       "      <td>2.334013e+07</td>\n",
       "      <td>0.093333</td>\n",
       "      <td>4000.000000</td>\n",
       "      <td>98.725000</td>\n",
       "      <td>17.855833</td>\n",
       "    </tr>\n",
       "    <tr>\n",
       "      <th>EASTERN EUROPE</th>\n",
       "      <td>1.231617e+07</td>\n",
       "      <td>1.547500</td>\n",
       "      <td>11175.000000</td>\n",
       "      <td>97.600000</td>\n",
       "      <td>10.330000</td>\n",
       "    </tr>\n",
       "    <tr>\n",
       "      <th>LATIN AMER. &amp; CARIB</th>\n",
       "      <td>1.276627e+07</td>\n",
       "      <td>16.111591</td>\n",
       "      <td>8488.636364</td>\n",
       "      <td>90.654545</td>\n",
       "      <td>19.197500</td>\n",
       "    </tr>\n",
       "    <tr>\n",
       "      <th>NEAR EAST</th>\n",
       "      <td>1.365565e+07</td>\n",
       "      <td>3.323571</td>\n",
       "      <td>11850.000000</td>\n",
       "      <td>79.521429</td>\n",
       "      <td>23.527857</td>\n",
       "    </tr>\n",
       "    <tr>\n",
       "      <th>NORTHERN AFRICA</th>\n",
       "      <td>3.222682e+07</td>\n",
       "      <td>0.298000</td>\n",
       "      <td>5460.000000</td>\n",
       "      <td>67.240000</td>\n",
       "      <td>20.814000</td>\n",
       "    </tr>\n",
       "    <tr>\n",
       "      <th>NORTHERN AMERICA</th>\n",
       "      <td>8.290399e+07</td>\n",
       "      <td>61.540000</td>\n",
       "      <td>27625.000000</td>\n",
       "      <td>97.750000</td>\n",
       "      <td>12.460000</td>\n",
       "    </tr>\n",
       "    <tr>\n",
       "      <th>OCEANIA</th>\n",
       "      <td>2.027042e+06</td>\n",
       "      <td>113.983750</td>\n",
       "      <td>10056.250000</td>\n",
       "      <td>91.262500</td>\n",
       "      <td>20.910000</td>\n",
       "    </tr>\n",
       "    <tr>\n",
       "      <th>SUB-SAHARAN AFRICA</th>\n",
       "      <td>1.498472e+07</td>\n",
       "      <td>4.217800</td>\n",
       "      <td>2318.000000</td>\n",
       "      <td>62.510000</td>\n",
       "      <td>35.945800</td>\n",
       "    </tr>\n",
       "    <tr>\n",
       "      <th>WESTERN EUROPE</th>\n",
       "      <td>1.721882e+07</td>\n",
       "      <td>14.065217</td>\n",
       "      <td>28347.826087</td>\n",
       "      <td>98.391304</td>\n",
       "      <td>10.502174</td>\n",
       "    </tr>\n",
       "  </tbody>\n",
       "</table>\n",
       "</div>"
      ],
      "text/plain": [
       "                                       Population  \\\n",
       "Region                                              \n",
       "ASIA (EX. NEAR EAST)                 1.317137e+08   \n",
       "BALTICS                              2.394991e+06   \n",
       "C.W. OF IND. STATES                  2.334013e+07   \n",
       "EASTERN EUROPE                       1.231617e+07   \n",
       "LATIN AMER. & CARIB                  1.276627e+07   \n",
       "NEAR EAST                            1.365565e+07   \n",
       "NORTHERN AFRICA                      3.222682e+07   \n",
       "NORTHERN AMERICA                     8.290399e+07   \n",
       "OCEANIA                              2.027042e+06   \n",
       "SUB-SAHARAN AFRICA                   1.498472e+07   \n",
       "WESTERN EUROPE                       1.721882e+07   \n",
       "\n",
       "                                     Coastline (coast/area ratio)  \\\n",
       "Region                                                              \n",
       "ASIA (EX. NEAR EAST)                                    17.926786   \n",
       "BALTICS                                                  3.116667   \n",
       "C.W. OF IND. STATES                                      0.093333   \n",
       "EASTERN EUROPE                                           1.547500   \n",
       "LATIN AMER. & CARIB                                     16.111591   \n",
       "NEAR EAST                                                3.323571   \n",
       "NORTHERN AFRICA                                          0.298000   \n",
       "NORTHERN AMERICA                                        61.540000   \n",
       "OCEANIA                                                113.983750   \n",
       "SUB-SAHARAN AFRICA                                       4.217800   \n",
       "WESTERN EUROPE                                          14.065217   \n",
       "\n",
       "                                     GDP ($ per capita)  Literacy (%)  \\\n",
       "Region                                                                  \n",
       "ASIA (EX. NEAR EAST)                        8053.571429     79.553571   \n",
       "BALTICS                                    11300.000000     99.733333   \n",
       "C.W. OF IND. STATES                         4000.000000     98.725000   \n",
       "EASTERN EUROPE                             11175.000000     97.600000   \n",
       "LATIN AMER. & CARIB                         8488.636364     90.654545   \n",
       "NEAR EAST                                  11850.000000     79.521429   \n",
       "NORTHERN AFRICA                             5460.000000     67.240000   \n",
       "NORTHERN AMERICA                           27625.000000     97.750000   \n",
       "OCEANIA                                    10056.250000     91.262500   \n",
       "SUB-SAHARAN AFRICA                          2318.000000     62.510000   \n",
       "WESTERN EUROPE                             28347.826087     98.391304   \n",
       "\n",
       "                                     Birthrate  \n",
       "Region                                          \n",
       "ASIA (EX. NEAR EAST)                 21.157857  \n",
       "BALTICS                               9.343333  \n",
       "C.W. OF IND. STATES                  17.855833  \n",
       "EASTERN EUROPE                       10.330000  \n",
       "LATIN AMER. & CARIB                  19.197500  \n",
       "NEAR EAST                            23.527857  \n",
       "NORTHERN AFRICA                      20.814000  \n",
       "NORTHERN AMERICA                     12.460000  \n",
       "OCEANIA                              20.910000  \n",
       "SUB-SAHARAN AFRICA                   35.945800  \n",
       "WESTERN EUROPE                       10.502174  "
      ]
     },
     "execution_count": 50,
     "metadata": {},
     "output_type": "execute_result"
    }
   ],
   "source": [
    "data_group"
   ]
  },
  {
   "cell_type": "code",
   "execution_count": 55,
   "metadata": {},
   "outputs": [],
   "source": [
    "data_group.rename(columns={'GDP ($ per capita)':'COUNTRY_GDP','Coastline (coast/area ratio)':'Coastlinearea','Literacy (%)':'literacy'},inplace=True)"
   ]
  },
  {
   "cell_type": "code",
   "execution_count": 64,
   "metadata": {},
   "outputs": [
    {
     "data": {
      "text/html": [
       "<div>\n",
       "<style scoped>\n",
       "    .dataframe tbody tr th:only-of-type {\n",
       "        vertical-align: middle;\n",
       "    }\n",
       "\n",
       "    .dataframe tbody tr th {\n",
       "        vertical-align: top;\n",
       "    }\n",
       "\n",
       "    .dataframe thead th {\n",
       "        text-align: right;\n",
       "    }\n",
       "</style>\n",
       "<table border=\"1\" class=\"dataframe\">\n",
       "  <thead>\n",
       "    <tr style=\"text-align: right;\">\n",
       "      <th></th>\n",
       "      <th>Population</th>\n",
       "      <th>Coastlinearea</th>\n",
       "      <th>COUNTRY_GDP</th>\n",
       "      <th>literacy</th>\n",
       "      <th>Birthrate</th>\n",
       "    </tr>\n",
       "    <tr>\n",
       "      <th>Region</th>\n",
       "      <th></th>\n",
       "      <th></th>\n",
       "      <th></th>\n",
       "      <th></th>\n",
       "      <th></th>\n",
       "    </tr>\n",
       "  </thead>\n",
       "  <tbody>\n",
       "    <tr>\n",
       "      <th>ASIA (EX. NEAR EAST)</th>\n",
       "      <td>1.317137e+08</td>\n",
       "      <td>17.926786</td>\n",
       "      <td>8053.571429</td>\n",
       "      <td>79.553571</td>\n",
       "      <td>21.157857</td>\n",
       "    </tr>\n",
       "    <tr>\n",
       "      <th>BALTICS</th>\n",
       "      <td>2.394991e+06</td>\n",
       "      <td>3.116667</td>\n",
       "      <td>11300.000000</td>\n",
       "      <td>99.733333</td>\n",
       "      <td>9.343333</td>\n",
       "    </tr>\n",
       "    <tr>\n",
       "      <th>C.W. OF IND. STATES</th>\n",
       "      <td>2.334013e+07</td>\n",
       "      <td>0.093333</td>\n",
       "      <td>4000.000000</td>\n",
       "      <td>98.725000</td>\n",
       "      <td>17.855833</td>\n",
       "    </tr>\n",
       "    <tr>\n",
       "      <th>EASTERN EUROPE</th>\n",
       "      <td>1.231617e+07</td>\n",
       "      <td>1.547500</td>\n",
       "      <td>11175.000000</td>\n",
       "      <td>97.600000</td>\n",
       "      <td>10.330000</td>\n",
       "    </tr>\n",
       "    <tr>\n",
       "      <th>LATIN AMER. &amp; CARIB</th>\n",
       "      <td>1.276627e+07</td>\n",
       "      <td>16.111591</td>\n",
       "      <td>8488.636364</td>\n",
       "      <td>90.654545</td>\n",
       "      <td>19.197500</td>\n",
       "    </tr>\n",
       "    <tr>\n",
       "      <th>NEAR EAST</th>\n",
       "      <td>1.365565e+07</td>\n",
       "      <td>3.323571</td>\n",
       "      <td>11850.000000</td>\n",
       "      <td>79.521429</td>\n",
       "      <td>23.527857</td>\n",
       "    </tr>\n",
       "    <tr>\n",
       "      <th>NORTHERN AFRICA</th>\n",
       "      <td>3.222682e+07</td>\n",
       "      <td>0.298000</td>\n",
       "      <td>5460.000000</td>\n",
       "      <td>67.240000</td>\n",
       "      <td>20.814000</td>\n",
       "    </tr>\n",
       "    <tr>\n",
       "      <th>NORTHERN AMERICA</th>\n",
       "      <td>8.290399e+07</td>\n",
       "      <td>61.540000</td>\n",
       "      <td>27625.000000</td>\n",
       "      <td>97.750000</td>\n",
       "      <td>12.460000</td>\n",
       "    </tr>\n",
       "    <tr>\n",
       "      <th>OCEANIA</th>\n",
       "      <td>2.027042e+06</td>\n",
       "      <td>113.983750</td>\n",
       "      <td>10056.250000</td>\n",
       "      <td>91.262500</td>\n",
       "      <td>20.910000</td>\n",
       "    </tr>\n",
       "    <tr>\n",
       "      <th>SUB-SAHARAN AFRICA</th>\n",
       "      <td>1.498472e+07</td>\n",
       "      <td>4.217800</td>\n",
       "      <td>2318.000000</td>\n",
       "      <td>62.510000</td>\n",
       "      <td>35.945800</td>\n",
       "    </tr>\n",
       "    <tr>\n",
       "      <th>WESTERN EUROPE</th>\n",
       "      <td>1.721882e+07</td>\n",
       "      <td>14.065217</td>\n",
       "      <td>28347.826087</td>\n",
       "      <td>98.391304</td>\n",
       "      <td>10.502174</td>\n",
       "    </tr>\n",
       "  </tbody>\n",
       "</table>\n",
       "</div>"
      ],
      "text/plain": [
       "                                       Population  Coastlinearea  \\\n",
       "Region                                                             \n",
       "ASIA (EX. NEAR EAST)                 1.317137e+08      17.926786   \n",
       "BALTICS                              2.394991e+06       3.116667   \n",
       "C.W. OF IND. STATES                  2.334013e+07       0.093333   \n",
       "EASTERN EUROPE                       1.231617e+07       1.547500   \n",
       "LATIN AMER. & CARIB                  1.276627e+07      16.111591   \n",
       "NEAR EAST                            1.365565e+07       3.323571   \n",
       "NORTHERN AFRICA                      3.222682e+07       0.298000   \n",
       "NORTHERN AMERICA                     8.290399e+07      61.540000   \n",
       "OCEANIA                              2.027042e+06     113.983750   \n",
       "SUB-SAHARAN AFRICA                   1.498472e+07       4.217800   \n",
       "WESTERN EUROPE                       1.721882e+07      14.065217   \n",
       "\n",
       "                                      COUNTRY_GDP   literacy  Birthrate  \n",
       "Region                                                                   \n",
       "ASIA (EX. NEAR EAST)                  8053.571429  79.553571  21.157857  \n",
       "BALTICS                              11300.000000  99.733333   9.343333  \n",
       "C.W. OF IND. STATES                   4000.000000  98.725000  17.855833  \n",
       "EASTERN EUROPE                       11175.000000  97.600000  10.330000  \n",
       "LATIN AMER. & CARIB                   8488.636364  90.654545  19.197500  \n",
       "NEAR EAST                            11850.000000  79.521429  23.527857  \n",
       "NORTHERN AFRICA                       5460.000000  67.240000  20.814000  \n",
       "NORTHERN AMERICA                     27625.000000  97.750000  12.460000  \n",
       "OCEANIA                              10056.250000  91.262500  20.910000  \n",
       "SUB-SAHARAN AFRICA                    2318.000000  62.510000  35.945800  \n",
       "WESTERN EUROPE                       28347.826087  98.391304  10.502174  "
      ]
     },
     "execution_count": 64,
     "metadata": {},
     "output_type": "execute_result"
    }
   ],
   "source": [
    "data_group"
   ]
  },
  {
   "cell_type": "code",
   "execution_count": 65,
   "metadata": {},
   "outputs": [
    {
     "data": {
      "text/plain": [
       "<matplotlib.axes._subplots.AxesSubplot at 0x27faaf1a9c8>"
      ]
     },
     "execution_count": 65,
     "metadata": {},
     "output_type": "execute_result"
    },
    {
     "data": {
      "image/png": "[encoded data removed]",
      "text/plain": [
       "<Figure size 432x288 with 1 Axes>"
      ]
     },
     "metadata": {
      "needs_background": "light"
     },
     "output_type": "display_data"
    }
   ],
   "source": [
    "data_group['COUNTRY_GDP'].plot(kind='bar',title='Avg.COUNTRY GDP')"
   ]
  },
  {
   "cell_type": "code",
   "execution_count": 66,
   "metadata": {},
   "outputs": [
    {
     "data": {
      "text/plain": [
       "<matplotlib.axes._subplots.AxesSubplot at 0x27faaf26108>"
      ]
     },
     "execution_count": 66,
     "metadata": {},
     "output_type": "execute_result"
    },
    {
     "data": {
      "image/png": "[encoded data removed]",
      "text/plain": [
       "<Figure size 432x288 with 1 Axes>"
      ]
     },
     "metadata": {
      "needs_background": "light"
     },
     "output_type": "display_data"
    }
   ],
   "source": [
    "#horizontal view\n",
    "data_group['COUNTRY_GDP'].plot(kind='barh',title='Avg.COUNTRY GDP')"
   ]
  },
  {
   "cell_type": "code",
   "execution_count": 70,
   "metadata": {},
   "outputs": [
    {
     "data": {
      "text/plain": [
       "<matplotlib.axes._subplots.AxesSubplot at 0x27fac0eee88>"
      ]
     },
     "execution_count": 70,
     "metadata": {},
     "output_type": "execute_result"
    },
    {
     "data": {
      "image/png": "[encoded data removed]",
      "text/plain": [
       "<Figure size 432x288 with 1 Axes>"
      ]
     },
     "metadata": {
      "needs_background": "light"
     },
     "output_type": "display_data"
    }
   ],
   "source": [
    "data_group[['COUNTRY_GDP','Coastlinearea']].plot(kind='barh',title='Avg.COUNTRY GDP')"
   ]
  },
  {
   "cell_type": "code",
   "execution_count": 12,
   "metadata": {},
   "outputs": [
    {
     "data": {
      "text/html": [
       "<div>\n",
       "<style scoped>\n",
       "    .dataframe tbody tr th:only-of-type {\n",
       "        vertical-align: middle;\n",
       "    }\n",
       "\n",
       "    .dataframe tbody tr th {\n",
       "        vertical-align: top;\n",
       "    }\n",
       "\n",
       "    .dataframe thead th {\n",
       "        text-align: right;\n",
       "    }\n",
       "</style>\n",
       "<table border=\"1\" class=\"dataframe\">\n",
       "  <thead>\n",
       "    <tr style=\"text-align: right;\">\n",
       "      <th></th>\n",
       "      <th>Country</th>\n",
       "      <th>Region</th>\n",
       "      <th>Population</th>\n",
       "      <th>Coastline (coast/area ratio)</th>\n",
       "      <th>GDP ($ per capita)</th>\n",
       "      <th>Literacy (%)</th>\n",
       "      <th>Birthrate</th>\n",
       "    </tr>\n",
       "  </thead>\n",
       "  <tbody>\n",
       "    <tr>\n",
       "      <th>0</th>\n",
       "      <td>Afghanistan</td>\n",
       "      <td>ASIA (EX. NEAR EAST)</td>\n",
       "      <td>31056997</td>\n",
       "      <td>0.00</td>\n",
       "      <td>700.0</td>\n",
       "      <td>36.0</td>\n",
       "      <td>46.60</td>\n",
       "    </tr>\n",
       "    <tr>\n",
       "      <th>1</th>\n",
       "      <td>Albania</td>\n",
       "      <td>EASTERN EUROPE</td>\n",
       "      <td>3581655</td>\n",
       "      <td>1.26</td>\n",
       "      <td>4500.0</td>\n",
       "      <td>86.5</td>\n",
       "      <td>15.11</td>\n",
       "    </tr>\n",
       "    <tr>\n",
       "      <th>2</th>\n",
       "      <td>Algeria</td>\n",
       "      <td>NORTHERN AFRICA</td>\n",
       "      <td>32930091</td>\n",
       "      <td>0.04</td>\n",
       "      <td>6000.0</td>\n",
       "      <td>70.0</td>\n",
       "      <td>17.14</td>\n",
       "    </tr>\n",
       "    <tr>\n",
       "      <th>3</th>\n",
       "      <td>American Samoa</td>\n",
       "      <td>OCEANIA</td>\n",
       "      <td>57794</td>\n",
       "      <td>58.29</td>\n",
       "      <td>8000.0</td>\n",
       "      <td>97.0</td>\n",
       "      <td>22.46</td>\n",
       "    </tr>\n",
       "    <tr>\n",
       "      <th>4</th>\n",
       "      <td>Andorra</td>\n",
       "      <td>WESTERN EUROPE</td>\n",
       "      <td>71201</td>\n",
       "      <td>0.00</td>\n",
       "      <td>19000.0</td>\n",
       "      <td>100.0</td>\n",
       "      <td>8.71</td>\n",
       "    </tr>\n",
       "  </tbody>\n",
       "</table>\n",
       "</div>"
      ],
      "text/plain": [
       "           Country                               Region  Population  \\\n",
       "0     Afghanistan         ASIA (EX. NEAR EAST)             31056997   \n",
       "1         Albania   EASTERN EUROPE                          3581655   \n",
       "2         Algeria   NORTHERN AFRICA                        32930091   \n",
       "3  American Samoa   OCEANIA                                   57794   \n",
       "4         Andorra   WESTERN EUROPE                            71201   \n",
       "\n",
       "   Coastline (coast/area ratio)  GDP ($ per capita)  Literacy (%)  Birthrate  \n",
       "0                          0.00               700.0          36.0      46.60  \n",
       "1                          1.26              4500.0          86.5      15.11  \n",
       "2                          0.04              6000.0          70.0      17.14  \n",
       "3                         58.29              8000.0          97.0      22.46  \n",
       "4                          0.00             19000.0         100.0       8.71  "
      ]
     },
     "execution_count": 12,
     "metadata": {},
     "output_type": "execute_result"
    }
   ],
   "source": [
    "new_data_nonull.head()"
   ]
  },
  {
   "cell_type": "code",
   "execution_count": 15,
   "metadata": {},
   "outputs": [],
   "source": [
    "data_extract=new_data_nonull[['Region','Population']]\n",
    "data=data_extract.groupby(by='Region').sum()"
   ]
  },
  {
   "cell_type": "code",
   "execution_count": 18,
   "metadata": {},
   "outputs": [
    {
     "data": {
      "text/plain": [
       "(11, 1)"
      ]
     },
     "execution_count": 18,
     "metadata": {},
     "output_type": "execute_result"
    }
   ],
   "source": [
    "data.shape"
   ]
  },
  {
   "cell_type": "code",
   "execution_count": 19,
   "metadata": {},
   "outputs": [
    {
     "data": {
      "text/html": [
       "<div>\n",
       "<style scoped>\n",
       "    .dataframe tbody tr th:only-of-type {\n",
       "        vertical-align: middle;\n",
       "    }\n",
       "\n",
       "    .dataframe tbody tr th {\n",
       "        vertical-align: top;\n",
       "    }\n",
       "\n",
       "    .dataframe thead th {\n",
       "        text-align: right;\n",
       "    }\n",
       "</style>\n",
       "<table border=\"1\" class=\"dataframe\">\n",
       "  <thead>\n",
       "    <tr style=\"text-align: right;\">\n",
       "      <th></th>\n",
       "      <th>Population</th>\n",
       "    </tr>\n",
       "    <tr>\n",
       "      <th>Region</th>\n",
       "      <th></th>\n",
       "    </tr>\n",
       "  </thead>\n",
       "  <tbody>\n",
       "    <tr>\n",
       "      <th>ASIA (EX. NEAR EAST)</th>\n",
       "      <td>3687982236</td>\n",
       "    </tr>\n",
       "    <tr>\n",
       "      <th>BALTICS</th>\n",
       "      <td>7184974</td>\n",
       "    </tr>\n",
       "    <tr>\n",
       "      <th>C.W. OF IND. STATES</th>\n",
       "      <td>280081548</td>\n",
       "    </tr>\n",
       "    <tr>\n",
       "      <th>EASTERN EUROPE</th>\n",
       "      <td>98529328</td>\n",
       "    </tr>\n",
       "    <tr>\n",
       "      <th>LATIN AMER. &amp; CARIB</th>\n",
       "      <td>561715994</td>\n",
       "    </tr>\n",
       "    <tr>\n",
       "      <th>NEAR EAST</th>\n",
       "      <td>191179128</td>\n",
       "    </tr>\n",
       "    <tr>\n",
       "      <th>NORTHERN AFRICA</th>\n",
       "      <td>161134125</td>\n",
       "    </tr>\n",
       "    <tr>\n",
       "      <th>NORTHERN AMERICA</th>\n",
       "      <td>331615946</td>\n",
       "    </tr>\n",
       "    <tr>\n",
       "      <th>OCEANIA</th>\n",
       "      <td>32432670</td>\n",
       "    </tr>\n",
       "    <tr>\n",
       "      <th>SUB-SAHARAN AFRICA</th>\n",
       "      <td>749235766</td>\n",
       "    </tr>\n",
       "    <tr>\n",
       "      <th>WESTERN EUROPE</th>\n",
       "      <td>396032890</td>\n",
       "    </tr>\n",
       "  </tbody>\n",
       "</table>\n",
       "</div>"
      ],
      "text/plain": [
       "                                     Population\n",
       "Region                                         \n",
       "ASIA (EX. NEAR EAST)                 3687982236\n",
       "BALTICS                                 7184974\n",
       "C.W. OF IND. STATES                   280081548\n",
       "EASTERN EUROPE                         98529328\n",
       "LATIN AMER. & CARIB                   561715994\n",
       "NEAR EAST                             191179128\n",
       "NORTHERN AFRICA                       161134125\n",
       "NORTHERN AMERICA                      331615946\n",
       "OCEANIA                                32432670\n",
       "SUB-SAHARAN AFRICA                    749235766\n",
       "WESTERN EUROPE                        396032890"
      ]
     },
     "execution_count": 19,
     "metadata": {},
     "output_type": "execute_result"
    }
   ],
   "source": [
    "data"
   ]
  },
  {
   "cell_type": "code",
   "execution_count": 20,
   "metadata": {},
   "outputs": [
    {
     "ename": "TypeError",
     "evalue": "pie() takes 1 positional argument but 2 were given",
     "output_type": "error",
     "traceback": [
      "\u001b[1;31m---------------------------------------------------------------------------\u001b[0m",
      "\u001b[1;31mTypeError\u001b[0m                                 Traceback (most recent call last)",
      "\u001b[1;32m<ipython-input-20-808d538d1714>\u001b[0m in \u001b[0;36m<module>\u001b[1;34m\u001b[0m\n\u001b[1;32m----> 1\u001b[1;33m \u001b[0mdata\u001b[0m\u001b[1;33m.\u001b[0m\u001b[0mplot\u001b[0m\u001b[1;33m.\u001b[0m\u001b[0mpie\u001b[0m\u001b[1;33m(\u001b[0m\u001b[1;34m'Population'\u001b[0m\u001b[1;33m)\u001b[0m\u001b[1;33m\u001b[0m\u001b[1;33m\u001b[0m\u001b[0m\n\u001b[0m",
      "\u001b[1;31mTypeError\u001b[0m: pie() takes 1 positional argument but 2 were given"
     ]
    }
   ],
   "source": [
    "data.plot.pie('Population')"
   ]
  },
  {
   "cell_type": "code",
   "execution_count": 27,
   "metadata": {},
   "outputs": [],
   "source": [
    "data=pd.read_csv('datasets\\countries_of_the_world.csv',decimal=',')"
   ]
  },
  {
   "cell_type": "code",
   "execution_count": 28,
   "metadata": {},
   "outputs": [],
   "source": [
    "data=data.dropna()"
   ]
  },
  {
   "cell_type": "code",
   "execution_count": 29,
   "metadata": {},
   "outputs": [
    {
     "data": {
      "text/plain": [
       "Country                               0\n",
       "Region                                0\n",
       "Population                            0\n",
       "Area (sq. mi.)                        0\n",
       "Pop. Density (per sq. mi.)            0\n",
       "Coastline (coast/area ratio)          0\n",
       "Net migration                         0\n",
       "Infant mortality (per 1000 births)    0\n",
       "GDP ($ per capita)                    0\n",
       "Literacy (%)                          0\n",
       "Phones (per 1000)                     0\n",
       "Arable (%)                            0\n",
       "Crops (%)                             0\n",
       "Other (%)                             0\n",
       "Climate                               0\n",
       "Birthrate                             0\n",
       "Deathrate                             0\n",
       "Agriculture                           0\n",
       "Industry                              0\n",
       "Service                               0\n",
       "dtype: int64"
      ]
     },
     "execution_count": 29,
     "metadata": {},
     "output_type": "execute_result"
    }
   ],
   "source": [
    "data.isnull().sum()"
   ]
  },
  {
   "cell_type": "code",
   "execution_count": 39,
   "metadata": {},
   "outputs": [],
   "source": [
    "data_polt=pd.DataFrame(data[['Region','Population']].groupby(by='Region').sum())"
   ]
  },
  {
   "cell_type": "code",
   "execution_count": 49,
   "metadata": {
    "scrolled": true
   },
   "outputs": [
    {
     "data": {
      "text/plain": [
       "array([<matplotlib.axes._subplots.AxesSubplot object at 0x000001C8B0314448>],\n",
       "      dtype=object)"
      ]
     },
     "execution_count": 49,
     "metadata": {},
     "output_type": "execute_result"
    },
    {
     "data": {
      "image/png": "[encoded data removed]",
      "text/plain": [
       "<Figure size 576x720 with 1 Axes>"
      ]
     },
     "metadata": {},
     "output_type": "display_data"
    }
   ],
   "source": [
    "data_polt.plot.pie(subplots=True,figsize=(8,10))"
   ]
  },
  {
   "cell_type": "markdown",
   "metadata": {},
   "source": [
    "# 9959152449\n"
   ]
  },
  {
   "cell_type": "code",
   "execution_count": 51,
   "metadata": {},
   "outputs": [
    {
     "data": {
      "text/plain": [
       "<matplotlib.axes._subplots.AxesSubplot at 0x1c8b06dd088>"
      ]
     },
     "execution_count": 51,
     "metadata": {},
     "output_type": "execute_result"
    },
    {
     "data": {
      "image/png": "[encoded data removed]",
      "text/plain": [
       "<Figure size 576x720 with 1 Axes>"
      ]
     },
     "metadata": {},
     "output_type": "display_data"
    }
   ],
   "source": [
    "data_polt.plot.pie(y='Population',figsize=(8,10),legend=False)"
   ]
  },
  {
   "cell_type": "code",
   "execution_count": 52,
   "metadata": {},
   "outputs": [
    {
     "data": {
      "text/html": [
       "<div>\n",
       "<style scoped>\n",
       "    .dataframe tbody tr th:only-of-type {\n",
       "        vertical-align: middle;\n",
       "    }\n",
       "\n",
       "    .dataframe tbody tr th {\n",
       "        vertical-align: top;\n",
       "    }\n",
       "\n",
       "    .dataframe thead th {\n",
       "        text-align: right;\n",
       "    }\n",
       "</style>\n",
       "<table border=\"1\" class=\"dataframe\">\n",
       "  <thead>\n",
       "    <tr style=\"text-align: right;\">\n",
       "      <th></th>\n",
       "      <th>Population</th>\n",
       "    </tr>\n",
       "    <tr>\n",
       "      <th>Region</th>\n",
       "      <th></th>\n",
       "    </tr>\n",
       "  </thead>\n",
       "  <tbody>\n",
       "    <tr>\n",
       "      <th>ASIA (EX. NEAR EAST)</th>\n",
       "      <td>3658632312</td>\n",
       "    </tr>\n",
       "    <tr>\n",
       "      <th>BALTICS</th>\n",
       "      <td>3599068</td>\n",
       "    </tr>\n",
       "    <tr>\n",
       "      <th>C.W. OF IND. STATES</th>\n",
       "      <td>132721302</td>\n",
       "    </tr>\n",
       "    <tr>\n",
       "      <th>EASTERN EUROPE</th>\n",
       "      <td>92024232</td>\n",
       "    </tr>\n",
       "    <tr>\n",
       "      <th>LATIN AMER. &amp; CARIB</th>\n",
       "      <td>561685403</td>\n",
       "    </tr>\n",
       "  </tbody>\n",
       "</table>\n",
       "</div>"
      ],
      "text/plain": [
       "                                     Population\n",
       "Region                                         \n",
       "ASIA (EX. NEAR EAST)                 3658632312\n",
       "BALTICS                                 3599068\n",
       "C.W. OF IND. STATES                   132721302\n",
       "EASTERN EUROPE                         92024232\n",
       "LATIN AMER. & CARIB                   561685403"
      ]
     },
     "execution_count": 52,
     "metadata": {},
     "output_type": "execute_result"
    }
   ],
   "source": [
    "data_polt.head()"
   ]
  },
  {
   "cell_type": "code",
   "execution_count": 53,
   "metadata": {},
   "outputs": [
    {
     "data": {
      "text/plain": [
       "count    1.100000e+01\n",
       "mean     5.567575e+08\n",
       "std      1.051676e+09\n",
       "min      3.599068e+06\n",
       "25%      1.070082e+08\n",
       "50%      1.865208e+08\n",
       "75%      4.492886e+08\n",
       "max      3.658632e+09\n",
       "Name: Population, dtype: float64"
      ]
     },
     "execution_count": 53,
     "metadata": {},
     "output_type": "execute_result"
    }
   ],
   "source": [
    "data_polt['Population'].describe()"
   ]
  },
  {
   "cell_type": "code",
   "execution_count": 54,
   "metadata": {},
   "outputs": [
    {
     "data": {
      "text/html": [
       "<div>\n",
       "<style scoped>\n",
       "    .dataframe tbody tr th:only-of-type {\n",
       "        vertical-align: middle;\n",
       "    }\n",
       "\n",
       "    .dataframe tbody tr th {\n",
       "        vertical-align: top;\n",
       "    }\n",
       "\n",
       "    .dataframe thead th {\n",
       "        text-align: right;\n",
       "    }\n",
       "</style>\n",
       "<table border=\"1\" class=\"dataframe\">\n",
       "  <thead>\n",
       "    <tr style=\"text-align: right;\">\n",
       "      <th></th>\n",
       "      <th>Country</th>\n",
       "      <th>Region</th>\n",
       "      <th>Population</th>\n",
       "      <th>Area (sq. mi.)</th>\n",
       "      <th>Pop. Density (per sq. mi.)</th>\n",
       "      <th>Coastline (coast/area ratio)</th>\n",
       "      <th>Net migration</th>\n",
       "      <th>Infant mortality (per 1000 births)</th>\n",
       "      <th>GDP ($ per capita)</th>\n",
       "      <th>Literacy (%)</th>\n",
       "      <th>Phones (per 1000)</th>\n",
       "      <th>Arable (%)</th>\n",
       "      <th>Crops (%)</th>\n",
       "      <th>Other (%)</th>\n",
       "      <th>Climate</th>\n",
       "      <th>Birthrate</th>\n",
       "      <th>Deathrate</th>\n",
       "      <th>Agriculture</th>\n",
       "      <th>Industry</th>\n",
       "      <th>Service</th>\n",
       "    </tr>\n",
       "  </thead>\n",
       "  <tbody>\n",
       "    <tr>\n",
       "      <th>0</th>\n",
       "      <td>Afghanistan</td>\n",
       "      <td>ASIA (EX. NEAR EAST)</td>\n",
       "      <td>31056997</td>\n",
       "      <td>647500</td>\n",
       "      <td>48.0</td>\n",
       "      <td>0.00</td>\n",
       "      <td>23.06</td>\n",
       "      <td>163.07</td>\n",
       "      <td>700.0</td>\n",
       "      <td>36.0</td>\n",
       "      <td>3.2</td>\n",
       "      <td>12.13</td>\n",
       "      <td>0.22</td>\n",
       "      <td>87.65</td>\n",
       "      <td>1.0</td>\n",
       "      <td>46.60</td>\n",
       "      <td>20.34</td>\n",
       "      <td>0.380</td>\n",
       "      <td>0.240</td>\n",
       "      <td>0.380</td>\n",
       "    </tr>\n",
       "    <tr>\n",
       "      <th>1</th>\n",
       "      <td>Albania</td>\n",
       "      <td>EASTERN EUROPE</td>\n",
       "      <td>3581655</td>\n",
       "      <td>28748</td>\n",
       "      <td>124.6</td>\n",
       "      <td>1.26</td>\n",
       "      <td>-4.93</td>\n",
       "      <td>21.52</td>\n",
       "      <td>4500.0</td>\n",
       "      <td>86.5</td>\n",
       "      <td>71.2</td>\n",
       "      <td>21.09</td>\n",
       "      <td>4.42</td>\n",
       "      <td>74.49</td>\n",
       "      <td>3.0</td>\n",
       "      <td>15.11</td>\n",
       "      <td>5.22</td>\n",
       "      <td>0.232</td>\n",
       "      <td>0.188</td>\n",
       "      <td>0.579</td>\n",
       "    </tr>\n",
       "    <tr>\n",
       "      <th>2</th>\n",
       "      <td>Algeria</td>\n",
       "      <td>NORTHERN AFRICA</td>\n",
       "      <td>32930091</td>\n",
       "      <td>2381740</td>\n",
       "      <td>13.8</td>\n",
       "      <td>0.04</td>\n",
       "      <td>-0.39</td>\n",
       "      <td>31.00</td>\n",
       "      <td>6000.0</td>\n",
       "      <td>70.0</td>\n",
       "      <td>78.1</td>\n",
       "      <td>3.22</td>\n",
       "      <td>0.25</td>\n",
       "      <td>96.53</td>\n",
       "      <td>1.0</td>\n",
       "      <td>17.14</td>\n",
       "      <td>4.61</td>\n",
       "      <td>0.101</td>\n",
       "      <td>0.600</td>\n",
       "      <td>0.298</td>\n",
       "    </tr>\n",
       "    <tr>\n",
       "      <th>6</th>\n",
       "      <td>Anguilla</td>\n",
       "      <td>LATIN AMER. &amp; CARIB</td>\n",
       "      <td>13477</td>\n",
       "      <td>102</td>\n",
       "      <td>132.1</td>\n",
       "      <td>59.80</td>\n",
       "      <td>10.76</td>\n",
       "      <td>21.03</td>\n",
       "      <td>8600.0</td>\n",
       "      <td>95.0</td>\n",
       "      <td>460.0</td>\n",
       "      <td>0.00</td>\n",
       "      <td>0.00</td>\n",
       "      <td>100.00</td>\n",
       "      <td>2.0</td>\n",
       "      <td>14.17</td>\n",
       "      <td>5.34</td>\n",
       "      <td>0.040</td>\n",
       "      <td>0.180</td>\n",
       "      <td>0.780</td>\n",
       "    </tr>\n",
       "    <tr>\n",
       "      <th>7</th>\n",
       "      <td>Antigua &amp; Barbuda</td>\n",
       "      <td>LATIN AMER. &amp; CARIB</td>\n",
       "      <td>69108</td>\n",
       "      <td>443</td>\n",
       "      <td>156.0</td>\n",
       "      <td>34.54</td>\n",
       "      <td>-6.15</td>\n",
       "      <td>19.46</td>\n",
       "      <td>11000.0</td>\n",
       "      <td>89.0</td>\n",
       "      <td>549.9</td>\n",
       "      <td>18.18</td>\n",
       "      <td>4.55</td>\n",
       "      <td>77.27</td>\n",
       "      <td>2.0</td>\n",
       "      <td>16.93</td>\n",
       "      <td>5.37</td>\n",
       "      <td>0.038</td>\n",
       "      <td>0.220</td>\n",
       "      <td>0.743</td>\n",
       "    </tr>\n",
       "  </tbody>\n",
       "</table>\n",
       "</div>"
      ],
      "text/plain": [
       "              Country                               Region  Population  \\\n",
       "0        Afghanistan         ASIA (EX. NEAR EAST)             31056997   \n",
       "1            Albania   EASTERN EUROPE                          3581655   \n",
       "2            Algeria   NORTHERN AFRICA                        32930091   \n",
       "6           Anguilla               LATIN AMER. & CARIB           13477   \n",
       "7  Antigua & Barbuda               LATIN AMER. & CARIB           69108   \n",
       "\n",
       "   Area (sq. mi.)  Pop. Density (per sq. mi.)  Coastline (coast/area ratio)  \\\n",
       "0          647500                        48.0                          0.00   \n",
       "1           28748                       124.6                          1.26   \n",
       "2         2381740                        13.8                          0.04   \n",
       "6             102                       132.1                         59.80   \n",
       "7             443                       156.0                         34.54   \n",
       "\n",
       "   Net migration  Infant mortality (per 1000 births)  GDP ($ per capita)  \\\n",
       "0          23.06                              163.07               700.0   \n",
       "1          -4.93                               21.52              4500.0   \n",
       "2          -0.39                               31.00              6000.0   \n",
       "6          10.76                               21.03              8600.0   \n",
       "7          -6.15                               19.46             11000.0   \n",
       "\n",
       "   Literacy (%)  Phones (per 1000)  Arable (%)  Crops (%)  Other (%)  Climate  \\\n",
       "0          36.0                3.2       12.13       0.22      87.65      1.0   \n",
       "1          86.5               71.2       21.09       4.42      74.49      3.0   \n",
       "2          70.0               78.1        3.22       0.25      96.53      1.0   \n",
       "6          95.0              460.0        0.00       0.00     100.00      2.0   \n",
       "7          89.0              549.9       18.18       4.55      77.27      2.0   \n",
       "\n",
       "   Birthrate  Deathrate  Agriculture  Industry  Service  \n",
       "0      46.60      20.34        0.380     0.240    0.380  \n",
       "1      15.11       5.22        0.232     0.188    0.579  \n",
       "2      17.14       4.61        0.101     0.600    0.298  \n",
       "6      14.17       5.34        0.040     0.180    0.780  \n",
       "7      16.93       5.37        0.038     0.220    0.743  "
      ]
     },
     "execution_count": 54,
     "metadata": {},
     "output_type": "execute_result"
    }
   ],
   "source": [
    "data.head()"
   ]
  },
  {
   "cell_type": "code",
   "execution_count": 58,
   "metadata": {},
   "outputs": [
    {
     "data": {
      "text/plain": [
       "count    1.790000e+02\n",
       "mean     3.421415e+07\n",
       "std      1.317639e+08\n",
       "min      1.347700e+04\n",
       "25%      1.188580e+06\n",
       "50%      6.940432e+06\n",
       "75%      2.086014e+07\n",
       "max      1.313974e+09\n",
       "Name: Population, dtype: float64"
      ]
     },
     "execution_count": 58,
     "metadata": {},
     "output_type": "execute_result"
    }
   ],
   "source": [
    "data.Population.describe()"
   ]
  },
  {
   "cell_type": "code",
   "execution_count": 59,
   "metadata": {},
   "outputs": [
    {
     "data": {
      "text/plain": [
       "<matplotlib.axes._subplots.AxesSubplot at 0x1c8b08b6f08>"
      ]
     },
     "execution_count": 59,
     "metadata": {},
     "output_type": "execute_result"
    },
    {
     "data": {
      "image/png": "[encoded data removed]",
      "text/plain": [
       "<Figure size 432x288 with 1 Axes>"
      ]
     },
     "metadata": {
      "needs_background": "light"
     },
     "output_type": "display_data"
    }
   ],
   "source": [
    "data.Population.plot(kind='box')"
   ]
  },
  {
   "cell_type": "code",
   "execution_count": 60,
   "metadata": {},
   "outputs": [
    {
     "data": {
      "text/plain": [
       "<matplotlib.axes._subplots.AxesSubplot at 0x1c8b0928f08>"
      ]
     },
     "execution_count": 60,
     "metadata": {},
     "output_type": "execute_result"
    },
    {
     "data": {
      "image/png": "[encoded data removed]",
      "text/plain": [
       "<Figure size 432x288 with 1 Axes>"
      ]
     },
     "metadata": {
      "needs_background": "light"
     },
     "output_type": "display_data"
    }
   ],
   "source": [
    "data.Birthrate.plot(kind='box')"
   ]
  },
  {
   "cell_type": "markdown",
   "metadata": {},
   "source": [
    "# midle line is medium and box top line is 75 % and bottom line is 25 % of the data top whiskas line is maximum line as well as bottom is minimum"
   ]
  },
  {
   "cell_type": "code",
   "execution_count": 64,
   "metadata": {},
   "outputs": [
    {
     "data": {
      "text/plain": [
       "<matplotlib.axes._subplots.AxesSubplot at 0x1c8b1f03d48>"
      ]
     },
     "execution_count": 64,
     "metadata": {},
     "output_type": "execute_result"
    },
    {
     "data": {
      "image/png": "[encoded data removed]",
      "text/plain": [
       "<Figure size 432x288 with 1 Axes>"
      ]
     },
     "metadata": {
      "needs_background": "light"
     },
     "output_type": "display_data"
    }
   ],
   "source": [
    "data.Birthrate.plot(kind='hist',bins=20,grid=True)"
   ]
  },
  {
   "cell_type": "code",
   "execution_count": null,
   "metadata": {},
   "outputs": [],
   "source": []
  }
 ],
 "metadata": {
  "kernelspec": {
   "display_name": "Python 3",
   "language": "python",
   "name": "python3"
  },
  "language_info": {
   "codemirror_mode": {
    "name": "ipython",
    "version": 3
   },
   "file_extension": ".py",
   "mimetype": "text/x-python",
   "name": "python",
   "nbconvert_exporter": "python",
   "pygments_lexer": "ipython3",
   "version": "3.7.6"
  }
 },
 "nbformat": 4,
 "nbformat_minor": 4
}
